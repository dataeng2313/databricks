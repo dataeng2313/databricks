{
 "cells": [
  {
   "cell_type": "code",
   "execution_count": 0,
   "metadata": {
    "application/vnd.databricks.v1+cell": {
     "cellMetadata": {
      "byteLimit": 2048000,
      "rowLimit": 10000
     },
     "inputWidgets": {},
     "nuid": "b66b1274-d32f-47e9-8877-f90db3410a01",
     "showTitle": false,
     "tableResultSettingsMap": {},
     "title": ""
    }
   },
   "outputs": [],
   "source": [
    "log_df = spark.read.text(\"/Volumes/adb_practice/bronze/myfolder/0623-123108-2au00esp/driver/log4j-active.log\")\n",
    "log_df.show(truncate=False)\n"
   ]
  },
  {
   "cell_type": "code",
   "execution_count": 0,
   "metadata": {
    "application/vnd.databricks.v1+cell": {
     "cellMetadata": {
      "byteLimit": 2048000,
      "rowLimit": 10000
     },
     "inputWidgets": {},
     "nuid": "dc0fe7db-d696-43c5-8779-17eb515625e2",
     "showTitle": false,
     "tableResultSettingsMap": {},
     "title": ""
    }
   },
   "outputs": [],
   "source": [
    "log_df.filter(log_df.value.contains(\"WARN\")).show(truncate=False)\n"
   ]
  },
  {
   "cell_type": "code",
   "execution_count": 0,
   "metadata": {
    "application/vnd.databricks.v1+cell": {
     "cellMetadata": {
      "byteLimit": 2048000,
      "rowLimit": 10000
     },
     "inputWidgets": {},
     "nuid": "c606ea93-7e0e-4a7a-8336-512973f1e158",
     "showTitle": false,
     "tableResultSettingsMap": {},
     "title": ""
    }
   },
   "outputs": [],
   "source": [
    "from pyspark.sql.functions import regexp_extract\n",
    "\n",
    "log_df_parsed = log_df.withColumn(\"level\", regexp_extract(\"value\", r\"\\d{2}:\\d{2}:\\d{2} (\\w+)\", 1)) \\\n",
    "                      .withColumn(\"reason\", regexp_extract(\"value\", r\"\\d{2}:\\d{2}:\\d{2} \\w+\\s+(.*)\", 1)) \\\n",
    "                      .select(\"level\", \"reason\")\n",
    "\n",
    "display(log_df_parsed)\n"
   ]
  },
  {
   "cell_type": "code",
   "execution_count": 0,
   "metadata": {
    "application/vnd.databricks.v1+cell": {
     "cellMetadata": {
      "byteLimit": 2048000,
      "rowLimit": 10000
     },
     "inputWidgets": {},
     "nuid": "f042feb0-ffc3-41e9-8969-085c262d3eb8",
     "showTitle": false,
     "tableResultSettingsMap": {},
     "title": ""
    }
   },
   "outputs": [],
   "source": [
    "from pyspark.sql.functions import regexp_extract\n",
    "\n",
    "log_df_parsed = log_df \\\n",
    "    .withColumn(\"timestamp\", regexp_extract(\"value\", r\"^(\\d{2}/\\d{2}/\\d{2} \\d{2}:\\d{2}:\\d{2})\", 1)) \\\n",
    "    .withColumn(\"level\", regexp_extract(\"value\", r\"\\d{2}:\\d{2}:\\d{2} (\\w+)\", 1)) \\\n",
    "    .withColumn(\"component\", regexp_extract(\"value\", r\"\\d{2}:\\d{2}:\\d{2} \\w+ ([^:]+)\", 1)) \\\n",
    "    .withColumn(\"reason\", regexp_extract(\"value\", r\": (.*)\", 1)) \\\n",
    "    .select(\"timestamp\", \"level\", \"component\", \"reason\")\n",
    "\n",
    "display(log_df_parsed)\n"
   ]
  }
 ],
 "metadata": {
  "application/vnd.databricks.v1+notebook": {
   "computePreferences": null,
   "dashboards": [],
   "environmentMetadata": {
    "base_environment": "",
    "environment_version": "2"
   },
   "inputWidgetPreferences": null,
   "language": "python",
   "notebookMetadata": {
    "pythonIndentUnit": 4
   },
   "notebookName": "(Clone) Logging",
   "widgets": {}
  },
  "language_info": {
   "name": "python"
  }
 },
 "nbformat": 4,
 "nbformat_minor": 0
}
