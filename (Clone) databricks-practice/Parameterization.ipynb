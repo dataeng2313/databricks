{
 "cells": [
  {
   "cell_type": "code",
   "execution_count": 0,
   "metadata": {
    "application/vnd.databricks.v1+cell": {
     "cellMetadata": {
      "byteLimit": 2048000,
      "rowLimit": 10000
     },
     "inputWidgets": {},
     "nuid": "062ec7a1-8a98-4c1c-86f6-fbf41f76706b",
     "showTitle": false,
     "tableResultSettingsMap": {},
     "title": ""
    }
   },
   "outputs": [],
   "source": [
    "from pyspark.sql.functions import current_date\n",
    "\n",
    "# Incoming updates (source)\n",
    "source = spark.createDataFrame([\n",
    "    (1, \"Alice\", \"HR\"),\n",
    "    (2, \"Bob\", \"Finance\"),\n",
    "    (3, \"Charlie\", \"Sales\")  # New record\n",
    "], [\"emp_id\", \"name\", \"department\"])\n",
    "\n",
    "source.createOrReplaceTempView(\"source_df\")\n"
   ]
  },
  {
   "cell_type": "code",
   "execution_count": 0,
   "metadata": {
    "application/vnd.databricks.v1+cell": {
     "cellMetadata": {
      "byteLimit": 2048000,
      "rowLimit": 10000
     },
     "inputWidgets": {},
     "nuid": "f8bae28c-d247-4daa-9b9b-883c5b8c0a0a",
     "showTitle": false,
     "tableResultSettingsMap": {},
     "title": ""
    }
   },
   "outputs": [],
   "source": [
    "from delta.tables import DeltaTable\n",
    "\n",
    "# Initial load\n",
    "initial = spark.createDataFrame([\n",
    "    (1, \"Alice\", \"IT\"),\n",
    "    (2, \"Bob\", \"Finance\")\n",
    "], [\"emp_id\", \"name\", \"department\"])\n",
    "\n",
    "initial.write.format(\"delta\").mode(\"overwrite\").saveAsTable(\"bronze.scd_demo\")\n"
   ]
  },
  {
   "cell_type": "markdown",
   "metadata": {
    "application/vnd.databricks.v1+cell": {
     "cellMetadata": {},
     "inputWidgets": {},
     "nuid": "711ddbcb-9ef7-4039-990e-dc982c480568",
     "showTitle": false,
     "tableResultSettingsMap": {},
     "title": ""
    }
   },
   "source": [
    "✅ **SCD Type 1: Overwrite Without History**"
   ]
  },
  {
   "cell_type": "code",
   "execution_count": 0,
   "metadata": {
    "application/vnd.databricks.v1+cell": {
     "cellMetadata": {
      "byteLimit": 2048000,
      "rowLimit": 10000
     },
     "inputWidgets": {},
     "nuid": "d589253a-8148-4b80-a2c9-893bd77652e2",
     "showTitle": false,
     "tableResultSettingsMap": {},
     "title": ""
    }
   },
   "outputs": [],
   "source": [
    "# Overwrite changes directly (no history)\n",
    "target = DeltaTable.forName(spark, \"bronze.scd_demo\")\n",
    "\n",
    "target.alias(\"target\") \\\n",
    "  .merge(\n",
    "    source.alias(\"source\"),\n",
    "    \"target.emp_id = source.emp_id\"\n",
    "  ) \\\n",
    "  .whenMatchedUpdateAll() \\\n",
    "  .whenNotMatchedInsertAll() \\\n",
    "  .execute()\n"
   ]
  },
  {
   "cell_type": "code",
   "execution_count": 0,
   "metadata": {
    "application/vnd.databricks.v1+cell": {
     "cellMetadata": {
      "byteLimit": 2048000,
      "rowLimit": 10000
     },
     "inputWidgets": {},
     "nuid": "188a215e-c1a9-4fc8-bb76-49408bf3a2f9",
     "showTitle": false,
     "tableResultSettingsMap": {},
     "title": ""
    }
   },
   "outputs": [],
   "source": [
    "spark.sql(\"select * from bronze.scd_demo\").show()"
   ]
  },
  {
   "cell_type": "markdown",
   "metadata": {
    "application/vnd.databricks.v1+cell": {
     "cellMetadata": {},
     "inputWidgets": {},
     "nuid": "ef74356e-9ac9-492b-a614-ae22b934515e",
     "showTitle": false,
     "tableResultSettingsMap": {},
     "title": ""
    }
   },
   "source": [
    "**Step 2: Apply SCD2 Logic**"
   ]
  },
  {
   "cell_type": "code",
   "execution_count": 0,
   "metadata": {
    "application/vnd.databricks.v1+cell": {
     "cellMetadata": {
      "byteLimit": 2048000,
      "rowLimit": 10000
     },
     "inputWidgets": {},
     "nuid": "d35f829f-0847-4fd3-b2c9-8ef53eb9b6d6",
     "showTitle": false,
     "tableResultSettingsMap": {},
     "title": ""
    }
   },
   "outputs": [],
   "source": [
    "from pyspark.sql.types import StructType, StructField, IntegerType, StringType, DateType, BooleanType\n",
    "from datetime import date\n",
    "\n",
    "schema = StructType([\n",
    "    StructField(\"emp_id\", IntegerType(), False),\n",
    "    StructField(\"name\", StringType(), False),\n",
    "    StructField(\"department\", StringType(), False),\n",
    "    StructField(\"start_date\", DateType(), False),\n",
    "    StructField(\"end_date\", DateType(), True),\n",
    "    StructField(\"is_current\", BooleanType(), False)\n",
    "])\n",
    "\n",
    "initial_scd2 = spark.createDataFrame([\n",
    "    (1, \"Alice\", \"IT\", date(2023, 1, 1), None, True),\n",
    "    (2, \"Bob\", \"Finance\", date(2023, 1, 1), None, True)\n",
    "], schema)\n",
    "\n",
    "initial_scd2.write.format(\"delta\").mode(\"overwrite\").partitionBy(\"emp_id\").saveAsTable(\"bronze.scd2_demo\")"
   ]
  },
  {
   "cell_type": "code",
   "execution_count": 0,
   "metadata": {
    "application/vnd.databricks.v1+cell": {
     "cellMetadata": {
      "byteLimit": 2048000,
      "rowLimit": 10000
     },
     "inputWidgets": {},
     "nuid": "34c46cc9-5126-471c-a473-0fe476296b54",
     "showTitle": false,
     "tableResultSettingsMap": {},
     "title": ""
    }
   },
   "outputs": [],
   "source": [
    "from pyspark.sql.functions import lit\n",
    "\n",
    "today = current_date()\n",
    "\n",
    "# Load tables\n",
    "target = DeltaTable.forName(spark, \"bronze.scd2_demo\")\n",
    "\n",
    "# Step 2a: Close current records if changed\n",
    "target.alias(\"t\").merge(\n",
    "    source.alias(\"s\"),\n",
    "    \"t.emp_id = s.emp_id AND t.is_current = true AND (t.name <> s.name OR t.department <> s.department)\"\n",
    ").whenMatchedUpdate(set={\n",
    "    \"end_date\": today,\n",
    "    \"is_current\": lit(False)\n",
    "}).execute()\n",
    "\n",
    "# Step 2b: Insert new records (new or updated)\n",
    "new_data = source.withColumn(\"start_date\", today) \\\n",
    "                 .withColumn(\"end_date\", lit(None)) \\\n",
    "                 .withColumn(\"is_current\", lit(True))\n",
    "\n",
    "target.alias(\"t\").merge(\n",
    "    new_data.alias(\"s\"),\n",
    "    \"t.emp_id = s.emp_id AND t.is_current = true\"\n",
    ").whenNotMatchedInsertAll().execute()\n"
   ]
  },
  {
   "cell_type": "code",
   "execution_count": 0,
   "metadata": {
    "application/vnd.databricks.v1+cell": {
     "cellMetadata": {
      "byteLimit": 2048000,
      "implicitDf": true,
      "rowLimit": 10000
     },
     "inputWidgets": {},
     "nuid": "eca8effe-4b17-4760-b150-1b771e2697eb",
     "showTitle": false,
     "tableResultSettingsMap": {},
     "title": ""
    }
   },
   "outputs": [],
   "source": [
    "%sql\n",
    "select * from bronze.scd2_demo"
   ]
  },
  {
   "cell_type": "code",
   "execution_count": 0,
   "metadata": {
    "application/vnd.databricks.v1+cell": {
     "cellMetadata": {
      "byteLimit": 2048000,
      "rowLimit": 10000
     },
     "inputWidgets": {},
     "nuid": "1a4e63e1-b9be-4792-835d-7ebe26811020",
     "showTitle": false,
     "tableResultSettingsMap": {},
     "title": ""
    }
   },
   "outputs": [],
   "source": [
    "import pandas as pd\n",
    "url = \"https://raw.githubusercontent.com/richhuwtaylor/adventure-works/main/data/AdventureWorks%20Customer%20Lookup.csv\"\n",
    "\n",
    "df_pd = pd.read_csv(url, encoding='ISO-8859-1')\n",
    "df = spark.createDataFrame(df_pd)\n",
    "df.write.format(\"delta\").mode(\"overwrite\").saveAsTable(\"bronze.customer_lookup\")"
   ]
  },
  {
   "cell_type": "code",
   "execution_count": 0,
   "metadata": {
    "application/vnd.databricks.v1+cell": {
     "cellMetadata": {
      "byteLimit": 2048000,
      "rowLimit": 10000
     },
     "inputWidgets": {},
     "nuid": "902a16c1-3d6d-4869-b21a-1b5d22b25629",
     "showTitle": false,
     "tableResultSettingsMap": {},
     "title": ""
    }
   },
   "outputs": [],
   "source": [
    "from pyspark.sql.functions import col, lit\n",
    "df = df.withColumn(\"total_children\", lit(\"REDACTED\"))\n",
    "\n",
    "# Row-level security: Filter rows based on 'marital_status'\n",
    "df1 = df.filter(col(\"gender\") == \"M\")\n",
    "\n",
    "# Display the DataFrame\n",
    "display(df1)"
   ]
  },
  {
   "cell_type": "code",
   "execution_count": 0,
   "metadata": {
    "application/vnd.databricks.v1+cell": {
     "cellMetadata": {
      "byteLimit": 2048000,
      "rowLimit": 10000
     },
     "inputWidgets": {},
     "nuid": "017b7f9e-9a3b-4feb-b6b7-28acc50edc4f",
     "showTitle": false,
     "tableResultSettingsMap": {},
     "title": ""
    }
   },
   "outputs": [],
   "source": [
    "display(df)"
   ]
  },
  {
   "cell_type": "code",
   "execution_count": 0,
   "metadata": {
    "application/vnd.databricks.v1+cell": {
     "cellMetadata": {
      "byteLimit": 2048000,
      "implicitDf": true,
      "rowLimit": 10000
     },
     "inputWidgets": {},
     "nuid": "81af9ac0-4552-4e1a-a9a5-9578062fd7b1",
     "showTitle": false,
     "tableResultSettingsMap": {},
     "title": ""
    }
   },
   "outputs": [],
   "source": [
    "%sql\n",
    "CREATE OR REPLACE FUNCTION adb_practice.bronze.mask_email(email STRING)\n",
    "RETURNS STRING\n",
    "RETURN\n",
    "  CASE\n",
    "    WHEN is_member('email_access_group') THEN email\n",
    "    ELSE '*****@****.com'\n",
    "  END;"
   ]
  },
  {
   "cell_type": "code",
   "execution_count": 0,
   "metadata": {
    "application/vnd.databricks.v1+cell": {
     "cellMetadata": {
      "byteLimit": 2048000,
      "implicitDf": true,
      "rowLimit": 10000
     },
     "inputWidgets": {},
     "nuid": "6955645b-e95d-40c5-960b-9df39661623e",
     "showTitle": false,
     "tableResultSettingsMap": {},
     "title": ""
    }
   },
   "outputs": [],
   "source": [
    "%sql\n",
    "select * from bronze.customer_lookup"
   ]
  },
  {
   "cell_type": "markdown",
   "metadata": {
    "application/vnd.databricks.v1+cell": {
     "cellMetadata": {},
     "inputWidgets": {},
     "nuid": "c660969e-5bcc-4964-9142-9d9449648c56",
     "showTitle": false,
     "tableResultSettingsMap": {},
     "title": ""
    }
   },
   "source": [
    "**Lineage**"
   ]
  },
  {
   "cell_type": "code",
   "execution_count": 0,
   "metadata": {
    "application/vnd.databricks.v1+cell": {
     "cellMetadata": {
      "byteLimit": 2048000,
      "implicitDf": true,
      "rowLimit": 10000
     },
     "inputWidgets": {},
     "nuid": "820fa434-783a-4715-8293-bb518932d82e",
     "showTitle": false,
     "tableResultSettingsMap": {},
     "title": ""
    }
   },
   "outputs": [],
   "source": [
    "%sql\n",
    "CREATE OR REPLACE TABLE bronze.customers (\n",
    "  customer_id INT,\n",
    "  name STRING,\n",
    "  region STRING\n",
    ");\n",
    "\n",
    "INSERT INTO bronze.customers VALUES\n",
    "  (1, 'Alice', 'North'),\n",
    "  (2, 'Bob', 'South'),\n",
    "  (3, 'Charlie', 'East');\n"
   ]
  },
  {
   "cell_type": "code",
   "execution_count": 0,
   "metadata": {
    "application/vnd.databricks.v1+cell": {
     "cellMetadata": {
      "byteLimit": 2048000,
      "implicitDf": true,
      "rowLimit": 10000
     },
     "inputWidgets": {},
     "nuid": "b1ff153e-6967-4f74-9eca-8efde267612a",
     "showTitle": false,
     "tableResultSettingsMap": {},
     "title": ""
    }
   },
   "outputs": [],
   "source": [
    "%sql\n",
    "CREATE OR REPLACE TABLE bronze.orders (\n",
    "  order_id INT,\n",
    "  customer_id INT,\n",
    "  amount DOUBLE\n",
    ");\n",
    "\n",
    "INSERT INTO bronze.orders VALUES\n",
    "  (101, 1, 250.0),\n",
    "  (102, 2, 300.0),\n",
    "  (103, 1, 150.0),\n",
    "  (104, 3, 400.0);\n"
   ]
  },
  {
   "cell_type": "code",
   "execution_count": 0,
   "metadata": {
    "application/vnd.databricks.v1+cell": {
     "cellMetadata": {
      "byteLimit": 2048000,
      "implicitDf": true,
      "rowLimit": 10000
     },
     "inputWidgets": {},
     "nuid": "c677c4cf-509b-488c-943a-f0dfec01ffdc",
     "showTitle": false,
     "tableResultSettingsMap": {},
     "title": ""
    }
   },
   "outputs": [],
   "source": [
    "%sql\n",
    "CREATE OR REPLACE TABLE bronze.customer_orders_summary AS\n",
    "SELECT\n",
    "  c.customer_id,\n",
    "  c.name,\n",
    "  c.region,\n",
    "  COUNT(o.order_id) AS total_orders,\n",
    "  SUM(o.amount) AS total_spent\n",
    "FROM bronze.customers c\n",
    "JOIN bronze.orders o\n",
    "  ON c.customer_id = o.customer_id\n",
    "GROUP BY c.customer_id, c.name, c.region;\n"
   ]
  },
  {
   "cell_type": "code",
   "execution_count": 0,
   "metadata": {
    "application/vnd.databricks.v1+cell": {
     "cellMetadata": {
      "byteLimit": 2048000,
      "implicitDf": true,
      "rowLimit": 10000
     },
     "inputWidgets": {},
     "nuid": "c1a31132-c290-4e5b-b4d0-283bdcb9f99a",
     "showTitle": false,
     "tableResultSettingsMap": {},
     "title": ""
    }
   },
   "outputs": [],
   "source": [
    "%sql\n",
    "select * from bronze.customer_orders_summary"
   ]
  },
  {
   "cell_type": "code",
   "execution_count": 0,
   "metadata": {
    "application/vnd.databricks.v1+cell": {
     "cellMetadata": {},
     "inputWidgets": {},
     "nuid": "fbf3b5e1-24ff-4517-a713-315ea17acaf8",
     "showTitle": false,
     "tableResultSettingsMap": {},
     "title": ""
    }
   },
   "outputs": [],
   "source": []
  }
 ],
 "metadata": {
  "application/vnd.databricks.v1+notebook": {
   "computePreferences": null,
   "dashboards": [],
   "environmentMetadata": {
    "base_environment": "",
    "environment_version": "2"
   },
   "inputWidgetPreferences": null,
   "language": "python",
   "notebookMetadata": {
    "mostRecentlyExecutedCommandWithImplicitDF": {
     "commandId": 6369849175818664,
     "dataframes": [
      "_sqldf"
     ]
    },
    "pythonIndentUnit": 4
   },
   "notebookName": "Parameterization",
   "widgets": {}
  },
  "language_info": {
   "name": "python"
  }
 },
 "nbformat": 4,
 "nbformat_minor": 0
}
