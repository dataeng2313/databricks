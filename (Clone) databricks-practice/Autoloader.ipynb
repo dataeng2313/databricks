{
 "cells": [
  {
   "cell_type": "code",
   "execution_count": 0,
   "metadata": {
    "application/vnd.databricks.v1+cell": {
     "cellMetadata": {},
     "inputWidgets": {},
     "nuid": "f92770f3-4395-46f7-832b-cfe1e538fb7c",
     "showTitle": false,
     "tableResultSettingsMap": {},
     "title": ""
    }
   },
   "outputs": [],
   "source": [
    "# First batch\n",
    "data1 = \"\"\"{\"user_id\": 1, \"event\": \"login\", \"ts\": \"2025-06-30T10:00:00Z\"}\n",
    "{\"user_id\": 2, \"event\": \"logout\", \"ts\": \"2025-06-30T10:05:00Z\"}\"\"\"\n",
    "\n",
    "# Second batch adds a new column `device`\n",
    "data2 = \"\"\"{\"user_id\": 3, \"event\": \"purchase\", \"ts\": \"2025-06-30T10:10:00Z\", \"device\": \"mobile\"}\n",
    "{\"user_id\": 4, \"event\": \"login\", \"ts\": \"2025-06-30T10:15:00Z\", \"device\": \"desktop\"}\"\"\"\n",
    "\n",
    "dbutils.fs.put(\"dbfs:/mnt/raw/events/batch1.json\", data1, overwrite=True)\n",
    "dbutils.fs.put(\"dbfs:/mnt/raw/events/batch2.json\", data2, overwrite=True)\n"
   ]
  },
  {
   "cell_type": "code",
   "execution_count": 0,
   "metadata": {
    "application/vnd.databricks.v1+cell": {
     "cellMetadata": {},
     "inputWidgets": {},
     "nuid": "53dec861-6da4-428d-a787-b253a97aa929",
     "showTitle": false,
     "tableResultSettingsMap": {},
     "title": ""
    }
   },
   "outputs": [],
   "source": [
    "from pyspark.sql.functions import *\n",
    "\n",
    "bronze_input = \"dbfs:/mnt/raw/events\"\n",
    "bronze_output = \"dbfs:/mnt/bronze/events\"\n",
    "schema_loc = \"dbfs:/mnt/schemas/events\"\n",
    "\n",
    "df_bronze = (\n",
    "    spark.readStream\n",
    "    .format(\"cloudFiles\")\n",
    "    .option(\"cloudFiles.format\", \"json\")\n",
    "    .option(\"cloudFiles.schemaLocation\", schema_loc)\n",
    "    .option(\"mergeSchema\", \"true\")\n",
    "    .load(bronze_input)\n",
    "    .withColumn(\"ingestion_time\", current_timestamp())\n",
    ")\n",
    "\n",
    "df_bronze.writeStream \\\n",
    "    .format(\"delta\") \\\n",
    "    .option(\"checkpointLocation\", f\"{bronze_output}/_checkpoint\") \\\n",
    "    .outputMode(\"append\") \\\n",
    "    .start(bronze_output)\n"
   ]
  },
  {
   "cell_type": "code",
   "execution_count": 0,
   "metadata": {
    "application/vnd.databricks.v1+cell": {
     "cellMetadata": {},
     "inputWidgets": {},
     "nuid": "2646416e-ba59-4dae-9b06-38639f055ef0",
     "showTitle": false,
     "tableResultSettingsMap": {},
     "title": ""
    }
   },
   "outputs": [],
   "source": [
    "bronze_df = spark.read.format(\"delta\").load(bronze_output)\n",
    "\n",
    "silver_df = (\n",
    "    bronze_df.filter(\"event is not null and user_id is not null\")\n",
    "    .withColumn(\"event_date\", to_date(\"ts\"))\n",
    ")\n",
    "\n",
    "silver_output = \"dbfs:/mnt/silver/events_clean\"\n",
    "silver_df.write.format(\"delta\").mode(\"overwrite\").save(silver_output)\n"
   ]
  },
  {
   "cell_type": "code",
   "execution_count": 0,
   "metadata": {
    "application/vnd.databricks.v1+cell": {
     "cellMetadata": {},
     "inputWidgets": {},
     "nuid": "c4ed702d-e82f-4013-b32c-6bdf2e24cef8",
     "showTitle": false,
     "tableResultSettingsMap": {},
     "title": ""
    }
   },
   "outputs": [],
   "source": [
    "silver_df = spark.read.format(\"delta\").load(silver_output)\n",
    "\n",
    "gold_df = (\n",
    "    silver_df.groupBy(\"event_date\", \"event\")\n",
    "    .agg(countDistinct(\"user_id\").alias(\"unique_users\"))\n",
    ")\n",
    "\n",
    "gold_output = \"dbfs:/mnt/gold/event_summary\"\n",
    "gold_df.write.format(\"delta\").mode(\"overwrite\").save(gold_output)\n"
   ]
  },
  {
   "cell_type": "code",
   "execution_count": 0,
   "metadata": {
    "application/vnd.databricks.v1+cell": {
     "cellMetadata": {},
     "inputWidgets": {},
     "nuid": "c573193c-e1ef-4b33-97ae-8d0fe637fb77",
     "showTitle": false,
     "tableResultSettingsMap": {},
     "title": ""
    }
   },
   "outputs": [],
   "source": [
    "display(spark.read.format(\"delta\").load(gold_output))\n"
   ]
  }
 ],
 "metadata": {
  "application/vnd.databricks.v1+notebook": {
   "computePreferences": null,
   "dashboards": [],
   "environmentMetadata": {
    "base_environment": "",
    "environment_version": "2"
   },
   "inputWidgetPreferences": null,
   "language": "python",
   "notebookMetadata": {
    "pythonIndentUnit": 4
   },
   "notebookName": "Autoloader",
   "widgets": {}
  },
  "language_info": {
   "name": "python"
  }
 },
 "nbformat": 4,
 "nbformat_minor": 0
}
